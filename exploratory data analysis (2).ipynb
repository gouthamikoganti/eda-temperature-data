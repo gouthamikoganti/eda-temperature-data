{
 "cells": [
  {
   "cell_type": "code",
   "execution_count": 1,
   "metadata": {},
   "outputs": [],
   "source": [
    "import pandas as pd\n",
    "import numpy as np\n",
    "import matplotlib.pyplot as plt\n",
    "import seaborn as sns\n",
    "%matplotlib inline\n",
    "sns.set(color_codes=True)"
   ]
  },
  {
   "cell_type": "code",
   "execution_count": 2,
   "metadata": {},
   "outputs": [
    {
     "data": {
      "text/html": [
       "<div>\n",
       "<style scoped>\n",
       "    .dataframe tbody tr th:only-of-type {\n",
       "        vertical-align: middle;\n",
       "    }\n",
       "\n",
       "    .dataframe tbody tr th {\n",
       "        vertical-align: top;\n",
       "    }\n",
       "\n",
       "    .dataframe thead th {\n",
       "        text-align: right;\n",
       "    }\n",
       "</style>\n",
       "<table border=\"1\" class=\"dataframe\">\n",
       "  <thead>\n",
       "    <tr style=\"text-align: right;\">\n",
       "      <th></th>\n",
       "      <th>DateTime</th>\n",
       "      <th>humidity</th>\n",
       "      <th>temp</th>\n",
       "    </tr>\n",
       "  </thead>\n",
       "  <tbody>\n",
       "    <tr>\n",
       "      <th>0</th>\n",
       "      <td>2018-01-01 00:00:00</td>\n",
       "      <td>51.000000</td>\n",
       "      <td>22.700000</td>\n",
       "    </tr>\n",
       "    <tr>\n",
       "      <th>1</th>\n",
       "      <td>2018-01-01 00:01:00</td>\n",
       "      <td>76.000000</td>\n",
       "      <td>19.700001</td>\n",
       "    </tr>\n",
       "    <tr>\n",
       "      <th>2</th>\n",
       "      <td>2018-01-01 00:02:00</td>\n",
       "      <td>50.900000</td>\n",
       "      <td>22.600000</td>\n",
       "    </tr>\n",
       "    <tr>\n",
       "      <th>3</th>\n",
       "      <td>2018-01-01 00:03:00</td>\n",
       "      <td>76.800003</td>\n",
       "      <td>27.000000</td>\n",
       "    </tr>\n",
       "    <tr>\n",
       "      <th>4</th>\n",
       "      <td>2018-01-01 00:04:00</td>\n",
       "      <td>50.900000</td>\n",
       "      <td>22.600000</td>\n",
       "    </tr>\n",
       "    <tr>\n",
       "      <th>...</th>\n",
       "      <td>...</td>\n",
       "      <td>...</td>\n",
       "      <td>...</td>\n",
       "    </tr>\n",
       "    <tr>\n",
       "      <th>362876</th>\n",
       "      <td>2018-09-09 23:56:00</td>\n",
       "      <td>50.400000</td>\n",
       "      <td>22.600000</td>\n",
       "    </tr>\n",
       "    <tr>\n",
       "      <th>362877</th>\n",
       "      <td>2018-09-09 23:57:00</td>\n",
       "      <td>78.000000</td>\n",
       "      <td>19.500000</td>\n",
       "    </tr>\n",
       "    <tr>\n",
       "      <th>362878</th>\n",
       "      <td>2018-09-09 23:58:00</td>\n",
       "      <td>50.400000</td>\n",
       "      <td>22.600000</td>\n",
       "    </tr>\n",
       "    <tr>\n",
       "      <th>362879</th>\n",
       "      <td>2018-09-09 23:59:00</td>\n",
       "      <td>55.599998</td>\n",
       "      <td>28.600000</td>\n",
       "    </tr>\n",
       "    <tr>\n",
       "      <th>362880</th>\n",
       "      <td>2018-09-10 00:00:00</td>\n",
       "      <td>78.000000</td>\n",
       "      <td>19.500000</td>\n",
       "    </tr>\n",
       "  </tbody>\n",
       "</table>\n",
       "<p>362881 rows × 3 columns</p>\n",
       "</div>"
      ],
      "text/plain": [
       "                  DateTime   humidity       temp\n",
       "0      2018-01-01 00:00:00  51.000000  22.700000\n",
       "1      2018-01-01 00:01:00  76.000000  19.700001\n",
       "2      2018-01-01 00:02:00  50.900000  22.600000\n",
       "3      2018-01-01 00:03:00  76.800003  27.000000\n",
       "4      2018-01-01 00:04:00  50.900000  22.600000\n",
       "...                    ...        ...        ...\n",
       "362876 2018-09-09 23:56:00  50.400000  22.600000\n",
       "362877 2018-09-09 23:57:00  78.000000  19.500000\n",
       "362878 2018-09-09 23:58:00  50.400000  22.600000\n",
       "362879 2018-09-09 23:59:00  55.599998  28.600000\n",
       "362880 2018-09-10 00:00:00  78.000000  19.500000\n",
       "\n",
       "[362881 rows x 3 columns]"
      ]
     },
     "execution_count": 2,
     "metadata": {},
     "output_type": "execute_result"
    }
   ],
   "source": [
    "#reading csv file into data frame df\n",
    "df=pd.read_csv(r\"C:\\Users\\admin\\Downloads\\Iot_temp_data (1).csv\",parse_dates=[\"DateTime\"])\n",
    "df"
   ]
  },
  {
   "cell_type": "code",
   "execution_count": 51,
   "metadata": {},
   "outputs": [
    {
     "data": {
      "text/html": [
       "<div>\n",
       "<style scoped>\n",
       "    .dataframe tbody tr th:only-of-type {\n",
       "        vertical-align: middle;\n",
       "    }\n",
       "\n",
       "    .dataframe tbody tr th {\n",
       "        vertical-align: top;\n",
       "    }\n",
       "\n",
       "    .dataframe thead th {\n",
       "        text-align: right;\n",
       "    }\n",
       "</style>\n",
       "<table border=\"1\" class=\"dataframe\">\n",
       "  <thead>\n",
       "    <tr style=\"text-align: right;\">\n",
       "      <th></th>\n",
       "      <th>DateTime</th>\n",
       "      <th>humidity</th>\n",
       "      <th>temp</th>\n",
       "    </tr>\n",
       "  </thead>\n",
       "  <tbody>\n",
       "    <tr>\n",
       "      <th>0</th>\n",
       "      <td>2018-01-01 00:00:00</td>\n",
       "      <td>51.000000</td>\n",
       "      <td>22.700000</td>\n",
       "    </tr>\n",
       "    <tr>\n",
       "      <th>1</th>\n",
       "      <td>2018-01-01 00:01:00</td>\n",
       "      <td>76.000000</td>\n",
       "      <td>19.700001</td>\n",
       "    </tr>\n",
       "    <tr>\n",
       "      <th>2</th>\n",
       "      <td>2018-01-01 00:02:00</td>\n",
       "      <td>50.900000</td>\n",
       "      <td>22.600000</td>\n",
       "    </tr>\n",
       "    <tr>\n",
       "      <th>3</th>\n",
       "      <td>2018-01-01 00:03:00</td>\n",
       "      <td>76.800003</td>\n",
       "      <td>27.000000</td>\n",
       "    </tr>\n",
       "    <tr>\n",
       "      <th>4</th>\n",
       "      <td>2018-01-01 00:04:00</td>\n",
       "      <td>50.900000</td>\n",
       "      <td>22.600000</td>\n",
       "    </tr>\n",
       "  </tbody>\n",
       "</table>\n",
       "</div>"
      ],
      "text/plain": [
       "             DateTime   humidity       temp\n",
       "0 2018-01-01 00:00:00  51.000000  22.700000\n",
       "1 2018-01-01 00:01:00  76.000000  19.700001\n",
       "2 2018-01-01 00:02:00  50.900000  22.600000\n",
       "3 2018-01-01 00:03:00  76.800003  27.000000\n",
       "4 2018-01-01 00:04:00  50.900000  22.600000"
      ]
     },
     "execution_count": 51,
     "metadata": {},
     "output_type": "execute_result"
    }
   ],
   "source": [
    "# first 5 records \n",
    "df.head()"
   ]
  },
  {
   "cell_type": "code",
   "execution_count": 52,
   "metadata": {},
   "outputs": [
    {
     "data": {
      "text/plain": [
       "Index(['DateTime', 'humidity', 'temp'], dtype='object')"
      ]
     },
     "execution_count": 52,
     "metadata": {},
     "output_type": "execute_result"
    }
   ],
   "source": [
    "#list of columns\n",
    "df.columns"
   ]
  },
  {
   "cell_type": "code",
   "execution_count": 54,
   "metadata": {},
   "outputs": [
    {
     "data": {
      "text/html": [
       "<div>\n",
       "<style scoped>\n",
       "    .dataframe tbody tr th:only-of-type {\n",
       "        vertical-align: middle;\n",
       "    }\n",
       "\n",
       "    .dataframe tbody tr th {\n",
       "        vertical-align: top;\n",
       "    }\n",
       "\n",
       "    .dataframe thead th {\n",
       "        text-align: right;\n",
       "    }\n",
       "</style>\n",
       "<table border=\"1\" class=\"dataframe\">\n",
       "  <thead>\n",
       "    <tr style=\"text-align: right;\">\n",
       "      <th></th>\n",
       "      <th>humidity</th>\n",
       "      <th>temp</th>\n",
       "    </tr>\n",
       "  </thead>\n",
       "  <tbody>\n",
       "    <tr>\n",
       "      <th>count</th>\n",
       "      <td>362881.000000</td>\n",
       "      <td>362881.000000</td>\n",
       "    </tr>\n",
       "    <tr>\n",
       "      <th>mean</th>\n",
       "      <td>60.444541</td>\n",
       "      <td>22.410774</td>\n",
       "    </tr>\n",
       "    <tr>\n",
       "      <th>std</th>\n",
       "      <td>11.424798</td>\n",
       "      <td>2.635851</td>\n",
       "    </tr>\n",
       "    <tr>\n",
       "      <th>min</th>\n",
       "      <td>1.600000</td>\n",
       "      <td>0.000000</td>\n",
       "    </tr>\n",
       "    <tr>\n",
       "      <th>25%</th>\n",
       "      <td>51.000000</td>\n",
       "      <td>19.900000</td>\n",
       "    </tr>\n",
       "    <tr>\n",
       "      <th>50%</th>\n",
       "      <td>54.599998</td>\n",
       "      <td>22.300000</td>\n",
       "    </tr>\n",
       "    <tr>\n",
       "      <th>75%</th>\n",
       "      <td>74.199997</td>\n",
       "      <td>23.600000</td>\n",
       "    </tr>\n",
       "    <tr>\n",
       "      <th>max</th>\n",
       "      <td>99.900002</td>\n",
       "      <td>30.600000</td>\n",
       "    </tr>\n",
       "  </tbody>\n",
       "</table>\n",
       "</div>"
      ],
      "text/plain": [
       "            humidity           temp\n",
       "count  362881.000000  362881.000000\n",
       "mean       60.444541      22.410774\n",
       "std        11.424798       2.635851\n",
       "min         1.600000       0.000000\n",
       "25%        51.000000      19.900000\n",
       "50%        54.599998      22.300000\n",
       "75%        74.199997      23.600000\n",
       "max        99.900002      30.600000"
      ]
     },
     "execution_count": 54,
     "metadata": {},
     "output_type": "execute_result"
    }
   ],
   "source": [
    "#view basic statistical details\n",
    "df.describe()"
   ]
  },
  {
   "cell_type": "code",
   "execution_count": 55,
   "metadata": {},
   "outputs": [
    {
     "data": {
      "text/plain": [
       "0        2018-01-01 00:00:00\n",
       "1        2018-01-01 00:01:00\n",
       "2        2018-01-01 00:02:00\n",
       "3        2018-01-01 00:03:00\n",
       "4        2018-01-01 00:04:00\n",
       "                 ...        \n",
       "362876   2018-09-09 23:56:00\n",
       "362877   2018-09-09 23:57:00\n",
       "362878   2018-09-09 23:58:00\n",
       "362879   2018-09-09 23:59:00\n",
       "362880   2018-09-10 00:00:00\n",
       "Name: DateTime, Length: 362881, dtype: datetime64[ns]"
      ]
     },
     "execution_count": 55,
     "metadata": {},
     "output_type": "execute_result"
    }
   ],
   "source": [
    "df['DateTime']"
   ]
  },
  {
   "cell_type": "code",
   "execution_count": 24,
   "metadata": {},
   "outputs": [
    {
     "name": "stdout",
     "output_type": "stream",
     "text": [
      "<class 'pandas.core.frame.DataFrame'>\n",
      "RangeIndex: 362881 entries, 0 to 362880\n",
      "Data columns (total 3 columns):\n",
      " #   Column    Non-Null Count   Dtype         \n",
      "---  ------    --------------   -----         \n",
      " 0   DateTime  362881 non-null  datetime64[ns]\n",
      " 1   humidity  362881 non-null  float64       \n",
      " 2   temp      362881 non-null  float64       \n",
      "dtypes: datetime64[ns](1), float64(2)\n",
      "memory usage: 8.3 MB\n"
     ]
    }
   ],
   "source": [
    "#method prints inf about data frame\n",
    "df.info()"
   ]
  },
  {
   "cell_type": "code",
   "execution_count": 56,
   "metadata": {},
   "outputs": [
    {
     "data": {
      "text/plain": [
       "pandas.core.series.Series"
      ]
     },
     "execution_count": 56,
     "metadata": {},
     "output_type": "execute_result"
    }
   ],
   "source": [
    "#type of DateTime col\n",
    "type(df['DateTime'])"
   ]
  },
  {
   "cell_type": "code",
   "execution_count": 57,
   "metadata": {},
   "outputs": [
    {
     "data": {
      "text/plain": [
       "(362881, 3)"
      ]
     },
     "execution_count": 57,
     "metadata": {},
     "output_type": "execute_result"
    }
   ],
   "source": [
    "df.shape"
   ]
  },
  {
   "cell_type": "code",
   "execution_count": 58,
   "metadata": {},
   "outputs": [
    {
     "data": {
      "text/plain": [
       "30.60000038146973"
      ]
     },
     "execution_count": 58,
     "metadata": {},
     "output_type": "execute_result"
    }
   ],
   "source": [
    "#max tem \n",
    "df['temp'].max()"
   ]
  },
  {
   "cell_type": "code",
   "execution_count": 59,
   "metadata": {},
   "outputs": [
    {
     "data": {
      "text/plain": [
       "DateTime    0\n",
       "humidity    0\n",
       "temp        0\n",
       "dtype: int64"
      ]
     },
     "execution_count": 59,
     "metadata": {},
     "output_type": "execute_result"
    }
   ],
   "source": [
    "#to know about missing values\n",
    "df.isnull().sum()"
   ]
  },
  {
   "cell_type": "code",
   "execution_count": 60,
   "metadata": {},
   "outputs": [
    {
     "data": {
      "text/html": [
       "<div>\n",
       "<style scoped>\n",
       "    .dataframe tbody tr th:only-of-type {\n",
       "        vertical-align: middle;\n",
       "    }\n",
       "\n",
       "    .dataframe tbody tr th {\n",
       "        vertical-align: top;\n",
       "    }\n",
       "\n",
       "    .dataframe thead th {\n",
       "        text-align: right;\n",
       "    }\n",
       "</style>\n",
       "<table border=\"1\" class=\"dataframe\">\n",
       "  <thead>\n",
       "    <tr style=\"text-align: right;\">\n",
       "      <th></th>\n",
       "      <th>DateTime</th>\n",
       "      <th>humidity</th>\n",
       "      <th>temp</th>\n",
       "    </tr>\n",
       "  </thead>\n",
       "  <tbody>\n",
       "    <tr>\n",
       "      <th>3</th>\n",
       "      <td>2018-01-01 00:03:00</td>\n",
       "      <td>76.800003</td>\n",
       "      <td>27.0</td>\n",
       "    </tr>\n",
       "    <tr>\n",
       "      <th>5</th>\n",
       "      <td>2018-01-01 00:05:00</td>\n",
       "      <td>77.900002</td>\n",
       "      <td>27.0</td>\n",
       "    </tr>\n",
       "    <tr>\n",
       "      <th>8</th>\n",
       "      <td>2018-01-01 00:08:00</td>\n",
       "      <td>77.900002</td>\n",
       "      <td>27.0</td>\n",
       "    </tr>\n",
       "    <tr>\n",
       "      <th>11</th>\n",
       "      <td>2018-01-01 00:11:00</td>\n",
       "      <td>78.000000</td>\n",
       "      <td>27.0</td>\n",
       "    </tr>\n",
       "    <tr>\n",
       "      <th>13</th>\n",
       "      <td>2018-01-01 00:13:00</td>\n",
       "      <td>78.000000</td>\n",
       "      <td>27.0</td>\n",
       "    </tr>\n",
       "    <tr>\n",
       "      <th>...</th>\n",
       "      <td>...</td>\n",
       "      <td>...</td>\n",
       "      <td>...</td>\n",
       "    </tr>\n",
       "    <tr>\n",
       "      <th>362864</th>\n",
       "      <td>2018-09-09 23:44:00</td>\n",
       "      <td>55.599998</td>\n",
       "      <td>28.6</td>\n",
       "    </tr>\n",
       "    <tr>\n",
       "      <th>362867</th>\n",
       "      <td>2018-09-09 23:47:00</td>\n",
       "      <td>55.599998</td>\n",
       "      <td>28.6</td>\n",
       "    </tr>\n",
       "    <tr>\n",
       "      <th>362870</th>\n",
       "      <td>2018-09-09 23:50:00</td>\n",
       "      <td>55.599998</td>\n",
       "      <td>28.6</td>\n",
       "    </tr>\n",
       "    <tr>\n",
       "      <th>362875</th>\n",
       "      <td>2018-09-09 23:55:00</td>\n",
       "      <td>55.599998</td>\n",
       "      <td>28.6</td>\n",
       "    </tr>\n",
       "    <tr>\n",
       "      <th>362879</th>\n",
       "      <td>2018-09-09 23:59:00</td>\n",
       "      <td>55.599998</td>\n",
       "      <td>28.6</td>\n",
       "    </tr>\n",
       "  </tbody>\n",
       "</table>\n",
       "<p>58153 rows × 3 columns</p>\n",
       "</div>"
      ],
      "text/plain": [
       "                  DateTime   humidity  temp\n",
       "3      2018-01-01 00:03:00  76.800003  27.0\n",
       "5      2018-01-01 00:05:00  77.900002  27.0\n",
       "8      2018-01-01 00:08:00  77.900002  27.0\n",
       "11     2018-01-01 00:11:00  78.000000  27.0\n",
       "13     2018-01-01 00:13:00  78.000000  27.0\n",
       "...                    ...        ...   ...\n",
       "362864 2018-09-09 23:44:00  55.599998  28.6\n",
       "362867 2018-09-09 23:47:00  55.599998  28.6\n",
       "362870 2018-09-09 23:50:00  55.599998  28.6\n",
       "362875 2018-09-09 23:55:00  55.599998  28.6\n",
       "362879 2018-09-09 23:59:00  55.599998  28.6\n",
       "\n",
       "[58153 rows x 3 columns]"
      ]
     },
     "execution_count": 60,
     "metadata": {},
     "output_type": "execute_result"
    }
   ],
   "source": [
    "#list of columns where temp is > 25\n",
    "df[df['temp']>25]"
   ]
  },
  {
   "cell_type": "code",
   "execution_count": 61,
   "metadata": {},
   "outputs": [
    {
     "name": "stdout",
     "output_type": "stream",
     "text": [
      "0\n"
     ]
    },
    {
     "data": {
      "text/html": [
       "<div>\n",
       "<style scoped>\n",
       "    .dataframe tbody tr th:only-of-type {\n",
       "        vertical-align: middle;\n",
       "    }\n",
       "\n",
       "    .dataframe tbody tr th {\n",
       "        vertical-align: top;\n",
       "    }\n",
       "\n",
       "    .dataframe thead th {\n",
       "        text-align: right;\n",
       "    }\n",
       "</style>\n",
       "<table border=\"1\" class=\"dataframe\">\n",
       "  <thead>\n",
       "    <tr style=\"text-align: right;\">\n",
       "      <th></th>\n",
       "      <th>DateTime</th>\n",
       "      <th>humidity</th>\n",
       "      <th>temp</th>\n",
       "    </tr>\n",
       "  </thead>\n",
       "  <tbody>\n",
       "  </tbody>\n",
       "</table>\n",
       "</div>"
      ],
      "text/plain": [
       "Empty DataFrame\n",
       "Columns: [DateTime, humidity, temp]\n",
       "Index: []"
      ]
     },
     "execution_count": 61,
     "metadata": {},
     "output_type": "execute_result"
    }
   ],
   "source": [
    "#to find and print about any duplicate records\n",
    "duplicate_df=df.duplicated()\n",
    "print(duplicate_df.sum())\n",
    "df[duplicate_df]"
   ]
  },
  {
   "cell_type": "code",
   "execution_count": 11,
   "metadata": {},
   "outputs": [
    {
     "data": {
      "text/html": [
       "<div>\n",
       "<style scoped>\n",
       "    .dataframe tbody tr th:only-of-type {\n",
       "        vertical-align: middle;\n",
       "    }\n",
       "\n",
       "    .dataframe tbody tr th {\n",
       "        vertical-align: top;\n",
       "    }\n",
       "\n",
       "    .dataframe thead th {\n",
       "        text-align: right;\n",
       "    }\n",
       "</style>\n",
       "<table border=\"1\" class=\"dataframe\">\n",
       "  <thead>\n",
       "    <tr style=\"text-align: right;\">\n",
       "      <th></th>\n",
       "      <th>DateTime</th>\n",
       "      <th>humidity</th>\n",
       "      <th>temp</th>\n",
       "    </tr>\n",
       "  </thead>\n",
       "  <tbody>\n",
       "    <tr>\n",
       "      <th>362861</th>\n",
       "      <td>2018-09-09 23:41:00</td>\n",
       "      <td>50.400000</td>\n",
       "      <td>22.6</td>\n",
       "    </tr>\n",
       "    <tr>\n",
       "      <th>362862</th>\n",
       "      <td>2018-09-09 23:42:00</td>\n",
       "      <td>78.099998</td>\n",
       "      <td>19.5</td>\n",
       "    </tr>\n",
       "    <tr>\n",
       "      <th>362863</th>\n",
       "      <td>2018-09-09 23:43:00</td>\n",
       "      <td>50.400000</td>\n",
       "      <td>22.6</td>\n",
       "    </tr>\n",
       "    <tr>\n",
       "      <th>362864</th>\n",
       "      <td>2018-09-09 23:44:00</td>\n",
       "      <td>55.599998</td>\n",
       "      <td>28.6</td>\n",
       "    </tr>\n",
       "    <tr>\n",
       "      <th>362865</th>\n",
       "      <td>2018-09-09 23:45:00</td>\n",
       "      <td>50.400000</td>\n",
       "      <td>22.6</td>\n",
       "    </tr>\n",
       "    <tr>\n",
       "      <th>362866</th>\n",
       "      <td>2018-09-09 23:46:00</td>\n",
       "      <td>78.000000</td>\n",
       "      <td>19.5</td>\n",
       "    </tr>\n",
       "    <tr>\n",
       "      <th>362867</th>\n",
       "      <td>2018-09-09 23:47:00</td>\n",
       "      <td>55.599998</td>\n",
       "      <td>28.6</td>\n",
       "    </tr>\n",
       "    <tr>\n",
       "      <th>362868</th>\n",
       "      <td>2018-09-09 23:48:00</td>\n",
       "      <td>50.300000</td>\n",
       "      <td>22.6</td>\n",
       "    </tr>\n",
       "    <tr>\n",
       "      <th>362869</th>\n",
       "      <td>2018-09-09 23:49:00</td>\n",
       "      <td>50.300000</td>\n",
       "      <td>22.6</td>\n",
       "    </tr>\n",
       "    <tr>\n",
       "      <th>362870</th>\n",
       "      <td>2018-09-09 23:50:00</td>\n",
       "      <td>55.599998</td>\n",
       "      <td>28.6</td>\n",
       "    </tr>\n",
       "    <tr>\n",
       "      <th>362871</th>\n",
       "      <td>2018-09-09 23:51:00</td>\n",
       "      <td>50.300000</td>\n",
       "      <td>22.6</td>\n",
       "    </tr>\n",
       "    <tr>\n",
       "      <th>362872</th>\n",
       "      <td>2018-09-09 23:52:00</td>\n",
       "      <td>78.000000</td>\n",
       "      <td>19.5</td>\n",
       "    </tr>\n",
       "    <tr>\n",
       "      <th>362873</th>\n",
       "      <td>2018-09-09 23:53:00</td>\n",
       "      <td>50.400000</td>\n",
       "      <td>22.6</td>\n",
       "    </tr>\n",
       "    <tr>\n",
       "      <th>362874</th>\n",
       "      <td>2018-09-09 23:54:00</td>\n",
       "      <td>78.000000</td>\n",
       "      <td>19.5</td>\n",
       "    </tr>\n",
       "    <tr>\n",
       "      <th>362875</th>\n",
       "      <td>2018-09-09 23:55:00</td>\n",
       "      <td>55.599998</td>\n",
       "      <td>28.6</td>\n",
       "    </tr>\n",
       "    <tr>\n",
       "      <th>362876</th>\n",
       "      <td>2018-09-09 23:56:00</td>\n",
       "      <td>50.400000</td>\n",
       "      <td>22.6</td>\n",
       "    </tr>\n",
       "    <tr>\n",
       "      <th>362877</th>\n",
       "      <td>2018-09-09 23:57:00</td>\n",
       "      <td>78.000000</td>\n",
       "      <td>19.5</td>\n",
       "    </tr>\n",
       "    <tr>\n",
       "      <th>362878</th>\n",
       "      <td>2018-09-09 23:58:00</td>\n",
       "      <td>50.400000</td>\n",
       "      <td>22.6</td>\n",
       "    </tr>\n",
       "    <tr>\n",
       "      <th>362879</th>\n",
       "      <td>2018-09-09 23:59:00</td>\n",
       "      <td>55.599998</td>\n",
       "      <td>28.6</td>\n",
       "    </tr>\n",
       "    <tr>\n",
       "      <th>362880</th>\n",
       "      <td>2018-09-10 00:00:00</td>\n",
       "      <td>78.000000</td>\n",
       "      <td>19.5</td>\n",
       "    </tr>\n",
       "  </tbody>\n",
       "</table>\n",
       "</div>"
      ],
      "text/plain": [
       "                  DateTime   humidity  temp\n",
       "362861 2018-09-09 23:41:00  50.400000  22.6\n",
       "362862 2018-09-09 23:42:00  78.099998  19.5\n",
       "362863 2018-09-09 23:43:00  50.400000  22.6\n",
       "362864 2018-09-09 23:44:00  55.599998  28.6\n",
       "362865 2018-09-09 23:45:00  50.400000  22.6\n",
       "362866 2018-09-09 23:46:00  78.000000  19.5\n",
       "362867 2018-09-09 23:47:00  55.599998  28.6\n",
       "362868 2018-09-09 23:48:00  50.300000  22.6\n",
       "362869 2018-09-09 23:49:00  50.300000  22.6\n",
       "362870 2018-09-09 23:50:00  55.599998  28.6\n",
       "362871 2018-09-09 23:51:00  50.300000  22.6\n",
       "362872 2018-09-09 23:52:00  78.000000  19.5\n",
       "362873 2018-09-09 23:53:00  50.400000  22.6\n",
       "362874 2018-09-09 23:54:00  78.000000  19.5\n",
       "362875 2018-09-09 23:55:00  55.599998  28.6\n",
       "362876 2018-09-09 23:56:00  50.400000  22.6\n",
       "362877 2018-09-09 23:57:00  78.000000  19.5\n",
       "362878 2018-09-09 23:58:00  50.400000  22.6\n",
       "362879 2018-09-09 23:59:00  55.599998  28.6\n",
       "362880 2018-09-10 00:00:00  78.000000  19.5"
      ]
     },
     "execution_count": 11,
     "metadata": {},
     "output_type": "execute_result"
    }
   ],
   "source": [
    "df.tail(20)"
   ]
  },
  {
   "cell_type": "code",
   "execution_count": 21,
   "metadata": {},
   "outputs": [
    {
     "data": {
      "text/plain": [
       "<matplotlib.axes._subplots.AxesSubplot at 0x1dcf70840a0>"
      ]
     },
     "execution_count": 21,
     "metadata": {},
     "output_type": "execute_result"
    },
    {
     "data": {
      "image/png": "[encoded data removed]",
      "text/plain": [
       "<Figure size 432x288 with 1 Axes>"
      ]
     },
     "metadata": {},
     "output_type": "display_data"
    }
   ],
   "source": [
    "#plotting boxplot to find about outliers\n",
    "df.boxplot(column=[\"temp\"])"
   ]
  },
  {
   "cell_type": "code",
   "execution_count": 3,
   "metadata": {},
   "outputs": [],
   "source": [
    "#defining function to find any outliers and to get lower and upper tem range\n",
    "def remove_outlier(col):\n",
    "    sorted(col)\n",
    "    Q1,Q3=col.quantile([0.25,0.75])\n",
    "    IQR=Q3-Q1\n",
    "    lower_range=Q1-(1.5*IQR)\n",
    "    upper_range=Q3+(1.5*IQR)\n",
    "    return lower_range,upper_range\n"
   ]
  },
  {
   "cell_type": "code",
   "execution_count": 4,
   "metadata": {},
   "outputs": [
    {
     "data": {
      "text/plain": [
       "(14.3499990463257, 29.150000572204583)"
      ]
     },
     "execution_count": 4,
     "metadata": {},
     "output_type": "execute_result"
    }
   ],
   "source": [
    "remove_outlier(df['temp'])"
   ]
  },
  {
   "cell_type": "code",
   "execution_count": 14,
   "metadata": {},
   "outputs": [
    {
     "data": {
      "text/html": [
       "<div>\n",
       "<style scoped>\n",
       "    .dataframe tbody tr th:only-of-type {\n",
       "        vertical-align: middle;\n",
       "    }\n",
       "\n",
       "    .dataframe tbody tr th {\n",
       "        vertical-align: top;\n",
       "    }\n",
       "\n",
       "    .dataframe thead th {\n",
       "        text-align: right;\n",
       "    }\n",
       "</style>\n",
       "<table border=\"1\" class=\"dataframe\">\n",
       "  <thead>\n",
       "    <tr style=\"text-align: right;\">\n",
       "      <th></th>\n",
       "      <th>humidity</th>\n",
       "      <th>temp</th>\n",
       "    </tr>\n",
       "    <tr>\n",
       "      <th>DateTime</th>\n",
       "      <th></th>\n",
       "      <th></th>\n",
       "    </tr>\n",
       "  </thead>\n",
       "  <tbody>\n",
       "    <tr>\n",
       "      <th>2018-01-01 00:00:00</th>\n",
       "      <td>51.000000</td>\n",
       "      <td>22.700000</td>\n",
       "    </tr>\n",
       "    <tr>\n",
       "      <th>2018-01-01 00:01:00</th>\n",
       "      <td>76.000000</td>\n",
       "      <td>19.700001</td>\n",
       "    </tr>\n",
       "    <tr>\n",
       "      <th>2018-01-01 00:02:00</th>\n",
       "      <td>50.900000</td>\n",
       "      <td>22.600000</td>\n",
       "    </tr>\n",
       "    <tr>\n",
       "      <th>2018-01-01 00:03:00</th>\n",
       "      <td>76.800003</td>\n",
       "      <td>27.000000</td>\n",
       "    </tr>\n",
       "    <tr>\n",
       "      <th>2018-01-01 00:04:00</th>\n",
       "      <td>50.900000</td>\n",
       "      <td>22.600000</td>\n",
       "    </tr>\n",
       "    <tr>\n",
       "      <th>...</th>\n",
       "      <td>...</td>\n",
       "      <td>...</td>\n",
       "    </tr>\n",
       "    <tr>\n",
       "      <th>2018-09-09 23:56:00</th>\n",
       "      <td>50.400000</td>\n",
       "      <td>22.600000</td>\n",
       "    </tr>\n",
       "    <tr>\n",
       "      <th>2018-09-09 23:57:00</th>\n",
       "      <td>78.000000</td>\n",
       "      <td>19.500000</td>\n",
       "    </tr>\n",
       "    <tr>\n",
       "      <th>2018-09-09 23:58:00</th>\n",
       "      <td>50.400000</td>\n",
       "      <td>22.600000</td>\n",
       "    </tr>\n",
       "    <tr>\n",
       "      <th>2018-09-09 23:59:00</th>\n",
       "      <td>55.599998</td>\n",
       "      <td>28.600000</td>\n",
       "    </tr>\n",
       "    <tr>\n",
       "      <th>2018-09-10 00:00:00</th>\n",
       "      <td>78.000000</td>\n",
       "      <td>19.500000</td>\n",
       "    </tr>\n",
       "  </tbody>\n",
       "</table>\n",
       "<p>362881 rows × 2 columns</p>\n",
       "</div>"
      ],
      "text/plain": [
       "                      humidity       temp\n",
       "DateTime                                 \n",
       "2018-01-01 00:00:00  51.000000  22.700000\n",
       "2018-01-01 00:01:00  76.000000  19.700001\n",
       "2018-01-01 00:02:00  50.900000  22.600000\n",
       "2018-01-01 00:03:00  76.800003  27.000000\n",
       "2018-01-01 00:04:00  50.900000  22.600000\n",
       "...                        ...        ...\n",
       "2018-09-09 23:56:00  50.400000  22.600000\n",
       "2018-09-09 23:57:00  78.000000  19.500000\n",
       "2018-09-09 23:58:00  50.400000  22.600000\n",
       "2018-09-09 23:59:00  55.599998  28.600000\n",
       "2018-09-10 00:00:00  78.000000  19.500000\n",
       "\n",
       "[362881 rows x 2 columns]"
      ]
     },
     "execution_count": 14,
     "metadata": {},
     "output_type": "execute_result"
    }
   ],
   "source": [
    "df.set_index('DateTime',inplace=True)\n",
    "df"
   ]
  },
  {
   "cell_type": "code",
   "execution_count": null,
   "metadata": {},
   "outputs": [],
   "source": [
    "#can't plot the plots\n",
    "ax = df[['DateTime','temp']].plot(kind='bar', title =\"V comp\", figsize=(15, 10), legend=True, fontsize=12)\n",
    "ax.set_xlabel(\"datetime\", fontsize=12)\n",
    "ax.set_ylabel(\"temp\", fontsize=12)\n",
    "plt.show()\n",
    "#df.plot(kind='bar',figsize=(10,5))\n",
    "#plt.title(\"date time and temperature\")\n",
    "#plt.ylabel('temp')\n",
    "#plt.xlabel('date time')\n",
    "#plt.show()"
   ]
  },
  {
   "cell_type": "code",
   "execution_count": null,
   "metadata": {},
   "outputs": [],
   "source": []
  },
  {
   "cell_type": "code",
   "execution_count": 3,
   "metadata": {},
   "outputs": [
    {
     "data": {
      "text/plain": [
       "pandas._libs.tslibs.timestamps.Timestamp"
      ]
     },
     "execution_count": 3,
     "metadata": {},
     "output_type": "execute_result"
    }
   ],
   "source": [
    "type(df.DateTime[0])"
   ]
  },
  {
   "cell_type": "code",
   "execution_count": null,
   "metadata": {},
   "outputs": [],
   "source": [
    "plt.figure(figsize=(20,10))\n",
    "c=df.temp()\n",
    "sns.heatmap(c,Datetime)"
   ]
  },
  {
   "cell_type": "code",
   "execution_count": null,
   "metadata": {},
   "outputs": [],
   "source": [
    "df.plot(x=\"DateTime\", y=[\"temp\"], kind=\"bar\")"
   ]
  },
  {
   "cell_type": "code",
   "execution_count": null,
   "metadata": {},
   "outputs": [],
   "source": [
    "df.plot.line()"
   ]
  },
  {
   "cell_type": "code",
   "execution_count": 6,
   "metadata": {},
   "outputs": [
    {
     "name": "stderr",
     "output_type": "stream",
     "text": [
      "*c* argument looks like a single numeric RGB or RGBA sequence, which should be avoided as value-mapping will have precedence in case its length matches with *x* & *y*.  Please use the *color* keyword-argument or provide a 2-D array with a single row if you intend to specify the same RGB or RGBA value for all points.\n"
     ]
    },
    {
     "data": {
      "text/plain": [
       "<matplotlib.axes._subplots.AxesSubplot at 0x24e9a694cd0>"
      ]
     },
     "execution_count": 6,
     "metadata": {},
     "output_type": "execute_result"
    },
    {
     "data": {
      "image/png": "[encoded data removed]",
      "text/plain": [
       "<Figure size 432x288 with 1 Axes>"
      ]
     },
     "metadata": {},
     "output_type": "display_data"
    }
   ],
   "source": [
    "df.plot.scatter('DateTime','temp')"
   ]
  },
  {
   "cell_type": "code",
   "execution_count": null,
   "metadata": {},
   "outputs": [],
   "source": [
    "#df.plot.hexbin()"
   ]
  },
  {
   "cell_type": "code",
   "execution_count": 22,
   "metadata": {},
   "outputs": [
    {
     "name": "stderr",
     "output_type": "stream",
     "text": [
      "*c* argument looks like a single numeric RGB or RGBA sequence, which should be avoided as value-mapping will have precedence in case its length matches with *x* & *y*.  Please use the *color* keyword-argument or provide a 2-D array with a single row if you intend to specify the same RGB or RGBA value for all points.\n"
     ]
    },
    {
     "data": {
      "image/png": "[encoded data removed]",
      "text/plain": [
       "<Figure size 432x288 with 1 Axes>"
      ]
     },
     "metadata": {},
     "output_type": "display_data"
    }
   ],
   "source": [
    "df.plot(x ='DateTime', y='temp', kind = 'scatter')\n",
    "plt.show()\n",
    "#c=color.reshape(1,-1)"
   ]
  },
  {
   "cell_type": "code",
   "execution_count": null,
   "metadata": {},
   "outputs": [],
   "source": [
    "#sns.heatmap(x=df['DateTime'],y=df['temp'])"
   ]
  },
  {
   "cell_type": "code",
   "execution_count": 29,
   "metadata": {},
   "outputs": [
    {
     "data": {
      "image/png": "[encoded data removed]",
      "text/plain": [
       "<Figure size 576x288 with 1 Axes>"
      ]
     },
     "metadata": {},
     "output_type": "display_data"
    }
   ],
   "source": [
    "sns.set(rc={'figure.figsize':(8,4)})\n",
    "plt.xticks(rotation=90)\n",
    "sns.lineplot(x=df['DateTime'],y=df['temp'])\n",
    "plt.show()"
   ]
  },
  {
   "cell_type": "code",
   "execution_count": null,
   "metadata": {},
   "outputs": [],
   "source": [
    "#from sklearn.preprocessing import scale\n",
    "#train_data=pd.DataFrame(scale(df))"
   ]
  },
  {
   "cell_type": "code",
   "execution_count": 32,
   "metadata": {},
   "outputs": [
    {
     "data": {
      "text/plain": [
       "(array([4.40000e+01, 3.50000e+01, 1.29000e+02, 9.00000e+00, 3.80000e+01,\n",
       "        6.00000e+01, 1.05716e+05, 1.89713e+05, 4.84890e+04, 1.86480e+04]),\n",
       " array([ 0.        ,  3.06000004,  6.12000008,  9.18000011, 12.24000015,\n",
       "        15.30000019, 18.36000023, 21.42000027, 24.48000031, 27.54000034,\n",
       "        30.60000038]),\n",
       " <a list of 10 Patch objects>)"
      ]
     },
     "execution_count": 32,
     "metadata": {},
     "output_type": "execute_result"
    },
    {
     "data": {
      "image/png": "[encoded data removed]",
      "text/plain": [
       "<Figure size 576x288 with 1 Axes>"
      ]
     },
     "metadata": {},
     "output_type": "display_data"
    }
   ],
   "source": [
    "#plotting histogram for temperature data\n",
    "plt.hist(df.temp)"
   ]
  },
  {
   "cell_type": "code",
   "execution_count": 33,
   "metadata": {},
   "outputs": [
    {
     "data": {
      "text/plain": [
       "humidity    0.531816\n",
       "temp        0.567833\n",
       "dtype: float64"
      ]
     },
     "execution_count": 33,
     "metadata": {},
     "output_type": "execute_result"
    }
   ],
   "source": [
    "df.skew()"
   ]
  },
  {
   "cell_type": "code",
   "execution_count": 34,
   "metadata": {},
   "outputs": [
    {
     "data": {
      "text/plain": [
       "humidity   -1.243543\n",
       "temp        1.363166\n",
       "dtype: float64"
      ]
     },
     "execution_count": 34,
     "metadata": {},
     "output_type": "execute_result"
    }
   ],
   "source": [
    "df.kurtosis()"
   ]
  },
  {
   "cell_type": "code",
   "execution_count": 35,
   "metadata": {},
   "outputs": [
    {
     "data": {
      "text/html": [
       "<div>\n",
       "<style scoped>\n",
       "    .dataframe tbody tr th:only-of-type {\n",
       "        vertical-align: middle;\n",
       "    }\n",
       "\n",
       "    .dataframe tbody tr th {\n",
       "        vertical-align: top;\n",
       "    }\n",
       "\n",
       "    .dataframe thead th {\n",
       "        text-align: right;\n",
       "    }\n",
       "</style>\n",
       "<table border=\"1\" class=\"dataframe\">\n",
       "  <thead>\n",
       "    <tr style=\"text-align: right;\">\n",
       "      <th></th>\n",
       "      <th>humidity</th>\n",
       "      <th>temp</th>\n",
       "    </tr>\n",
       "  </thead>\n",
       "  <tbody>\n",
       "    <tr>\n",
       "      <th>humidity</th>\n",
       "      <td>1.000000</td>\n",
       "      <td>-0.429927</td>\n",
       "    </tr>\n",
       "    <tr>\n",
       "      <th>temp</th>\n",
       "      <td>-0.429927</td>\n",
       "      <td>1.000000</td>\n",
       "    </tr>\n",
       "  </tbody>\n",
       "</table>\n",
       "</div>"
      ],
      "text/plain": [
       "          humidity      temp\n",
       "humidity  1.000000 -0.429927\n",
       "temp     -0.429927  1.000000"
      ]
     },
     "execution_count": 35,
     "metadata": {},
     "output_type": "execute_result"
    }
   ],
   "source": [
    "df.corr()"
   ]
  },
  {
   "cell_type": "code",
   "execution_count": 36,
   "metadata": {},
   "outputs": [
    {
     "data": {
      "image/png": "[encoded data removed]",
      "text/plain": [
       "<Figure size 576x288 with 2 Axes>"
      ]
     },
     "metadata": {},
     "output_type": "display_data"
    }
   ],
   "source": [
    "corr=df.corr()\n",
    "ax=sns.heatmap(corr)"
   ]
  },
  {
   "cell_type": "code",
   "execution_count": 37,
   "metadata": {},
   "outputs": [
    {
     "data": {
      "text/plain": [
       "(362881, 3)"
      ]
     },
     "execution_count": 37,
     "metadata": {},
     "output_type": "execute_result"
    }
   ],
   "source": [
    "np.shape(df)"
   ]
  },
  {
   "cell_type": "code",
   "execution_count": 39,
   "metadata": {},
   "outputs": [
    {
     "data": {
      "text/plain": [
       "{'whiskers': [<matplotlib.lines.Line2D at 0x1dcf7067e50>,\n",
       "  <matplotlib.lines.Line2D at 0x1dcf7067820>],\n",
       " 'caps': [<matplotlib.lines.Line2D at 0x1dcf7067460>,\n",
       "  <matplotlib.lines.Line2D at 0x1dcf70670d0>],\n",
       " 'boxes': [<matplotlib.lines.Line2D at 0x1dcf7387c70>],\n",
       " 'medians': [<matplotlib.lines.Line2D at 0x1dcf70845b0>],\n",
       " 'fliers': [<matplotlib.lines.Line2D at 0x1dcf7084430>],\n",
       " 'means': []}"
      ]
     },
     "execution_count": 39,
     "metadata": {},
     "output_type": "execute_result"
    },
    {
     "data": {
      "image/png": "[encoded data removed]",
      "text/plain": [
       "<Figure size 576x288 with 1 Axes>"
      ]
     },
     "metadata": {},
     "output_type": "display_data"
    }
   ],
   "source": [
    "plt.boxplot(df.temp)"
   ]
  },
  {
   "cell_type": "code",
   "execution_count": null,
   "metadata": {},
   "outputs": [],
   "source": []
  },
  {
   "cell_type": "code",
   "execution_count": null,
   "metadata": {},
   "outputs": [],
   "source": [
    "df.hist(figsize=(10,10))\n",
    "plt.show()"
   ]
  },
  {
   "cell_type": "code",
   "execution_count": 44,
   "metadata": {},
   "outputs": [
    {
     "data": {
      "text/plain": [
       "Text(0, 0.5, 'temp')"
      ]
     },
     "execution_count": 44,
     "metadata": {},
     "output_type": "execute_result"
    },
    {
     "data": {
      "image/png": "[encoded data removed]",
      "text/plain": [
       "<Figure size 576x288 with 1 Axes>"
      ]
     },
     "metadata": {},
     "output_type": "display_data"
    }
   ],
   "source": [
    "plt.plot(df.DateTime,df[\"temp\"],\"ro\");plt.xlabel(\"DateTime\");plt.ylabel(\"temp\")"
   ]
  },
  {
   "cell_type": "code",
   "execution_count": 47,
   "metadata": {},
   "outputs": [
    {
     "name": "stdout",
     "output_type": "stream",
     "text": [
      "3.700000381469721\n"
     ]
    }
   ],
   "source": [
    "q1=df['temp'].quantile(0.25)\n",
    "q3=df['temp'].quantile(0.75)\n",
    "IQR=q3-q1\n",
    "print(IQR)"
   ]
  },
  {
   "cell_type": "code",
   "execution_count": null,
   "metadata": {},
   "outputs": [],
   "source": [
    "#print(df['temp']<(q1-1.5*IQR))|(df['temp']>(q3+1.5*IQR))"
   ]
  },
  {
   "cell_type": "code",
   "execution_count": null,
   "metadata": {},
   "outputs": [],
   "source": []
  }
 ],
 "metadata": {
  "kernelspec": {
   "display_name": "Python 3",
   "language": "python",
   "name": "python3"
  },
  "language_info": {
   "codemirror_mode": {
    "name": "ipython",
    "version": 3
   },
   "file_extension": ".py",
   "mimetype": "text/x-python",
   "name": "python",
   "nbconvert_exporter": "python",
   "pygments_lexer": "ipython3",
   "version": "3.8.3"
  }
 },
 "nbformat": 4,
 "nbformat_minor": 4
}
